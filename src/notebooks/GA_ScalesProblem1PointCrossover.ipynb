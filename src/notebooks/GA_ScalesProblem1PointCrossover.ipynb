{
  "nbformat": 4,
  "nbformat_minor": 0,
  "metadata": {
    "colab": {
      "name": "GA-ScalesProblem1PointCrossover.ipynb",
      "provenance": [],
      "collapsed_sections": [],
      "authorship_tag": "ABX9TyMcTBVSE9zpWEXPAyUWXVoO",
      "include_colab_link": true
    },
    "kernelspec": {
      "name": "python3",
      "display_name": "Python 3"
    },
    "language_info": {
      "name": "python"
    }
  },
  "cells": [
    {
      "cell_type": "markdown",
      "metadata": {
        "id": "view-in-github",
        "colab_type": "text"
      },
      "source": [
        "<a href=\"https://colab.research.google.com/github/mandeepm91/ga-crossover-comparison/blob/main/src/notebooks/GA_ScalesProblem1PointCrossover.ipynb\" target=\"_parent\"><img src=\"https://colab.research.google.com/assets/colab-badge.svg\" alt=\"Open In Colab\"/></a>"
      ]
    },
    {
      "cell_type": "code",
      "execution_count": null,
      "metadata": {
        "colab": {
          "base_uri": "https://localhost:8080/"
        },
        "id": "sWlbs6DCGPQY",
        "outputId": "d53bfd07-d381-48cf-fb3b-90f856c7fa26"
      },
      "outputs": [
        {
          "output_type": "stream",
          "name": "stdout",
          "text": [
            "Looking in indexes: https://pypi.org/simple, https://us-python.pkg.dev/colab-wheels/public/simple/\n",
            "Requirement already satisfied: deap in /usr/local/lib/python3.7/dist-packages (1.3.1)\n",
            "Requirement already satisfied: numpy in /usr/local/lib/python3.7/dist-packages (from deap) (1.21.6)\n"
          ]
        }
      ],
      "source": [
        "!pip install deap\n",
        "from deap import creator, base, tools, algorithms\n",
        "import random"
      ]
    },
    {
      "cell_type": "code",
      "source": [
        "# Minimization problem\n",
        "creator.create(\"FitnessMin\", base.Fitness, weights=(-1.0,))\n",
        "creator.create(\"Individual\", list, fitness=creator.FitnessMin)"
      ],
      "metadata": {
        "id": "y_oeNsDcGZp-"
      },
      "execution_count": null,
      "outputs": []
    },
    {
      "cell_type": "code",
      "source": [
        "NUMBERS = [2, 3, 5, 7, 11, 13, 17, 19, 23, 29, 31, 37, 41, 43, 47, 53, 59, 61, 67, 71, 73, 79, 83, 89, 97]"
      ],
      "metadata": {
        "id": "M1lIh214GeMR"
      },
      "execution_count": null,
      "outputs": []
    },
    {
      "cell_type": "code",
      "source": [
        "# We're treating zero as weights placed on left and ones as weights placed on the right\n",
        "def evalFitness(individual):\n",
        "  left_weight = 0\n",
        "  right_weight = 0\n",
        "  for idx, x in enumerate(individual):\n",
        "    if x == 0:\n",
        "      left_weight += NUMBERS[idx]\n",
        "    elif x == 1:\n",
        "      right_weight += NUMBERS[idx]\n",
        "  # fitness is the absolute value of the different between left and right\n",
        "  fitness = abs(left_weight - right_weight)\n",
        "  # return type expected by the library must be a tuple\n",
        "  return (fitness, )\n"
      ],
      "metadata": {
        "id": "3-a1vxRQGlZ3"
      },
      "execution_count": null,
      "outputs": []
    },
    {
      "cell_type": "code",
      "source": [
        "toolbox = base.Toolbox()\n",
        "\n",
        "# chromosomes can be a string of 0 and 1 only\n",
        "toolbox.register(\"attr_bool\", random.randint, 0, 1)\n",
        "# length of a chromosome is equal to the length of NUMBERS list\n",
        "toolbox.register(\"individual\", tools.initRepeat, creator.Individual, toolbox.attr_bool, n=len(NUMBERS))\n",
        "toolbox.register(\"population\", tools.initRepeat, list, toolbox.individual)"
      ],
      "metadata": {
        "id": "MTkO3YkqHxeo"
      },
      "execution_count": null,
      "outputs": []
    },
    {
      "cell_type": "code",
      "source": [
        "toolbox.register(\"evaluate\", evalFitness)\n",
        "# crossover 1 point\n",
        "toolbox.register(\"mate\", tools.cxOnePoint)\n",
        "toolbox.register(\"mutate\", tools.mutFlipBit, indpb=0.05)\n",
        "toolbox.register(\"select\", tools.selTournament, tournsize=3)"
      ],
      "metadata": {
        "id": "SrHdexXrIHxP"
      },
      "execution_count": null,
      "outputs": []
    },
    {
      "cell_type": "code",
      "source": [
        "# starting wiht population size of 100 chromosomes\n",
        "pop = toolbox.population(n=100)\n",
        "\n",
        "example_chromosomes = pop[0: 10]\n",
        "for chromosome in example_chromosomes:\n",
        "  print(chromosome)\n",
        "\n",
        "# running 100 generations of the algorithm\n",
        "result = algorithms.eaSimple(pop, toolbox, cxpb=0.5, mutpb=0.2, ngen=100, verbose=True)"
      ],
      "metadata": {
        "colab": {
          "base_uri": "https://localhost:8080/"
        },
        "id": "us4bwri6Inav",
        "outputId": "76e1e241-be00-4c22-e838-9bc7152ba53e"
      },
      "execution_count": null,
      "outputs": [
        {
          "output_type": "stream",
          "name": "stdout",
          "text": [
            "[0, 1, 0, 0, 0, 0, 0, 0, 1, 1, 0, 0, 1, 0, 1, 0, 1, 0, 1, 1, 1, 1, 0, 1, 1]\n",
            "[1, 1, 1, 0, 0, 1, 0, 0, 0, 0, 0, 1, 1, 0, 1, 1, 1, 1, 1, 0, 1, 0, 1, 0, 0]\n",
            "[0, 0, 0, 1, 0, 0, 1, 0, 1, 1, 0, 1, 0, 0, 0, 0, 0, 0, 0, 0, 0, 0, 1, 0, 0]\n",
            "[0, 1, 0, 1, 1, 1, 0, 1, 0, 1, 1, 1, 1, 0, 1, 1, 0, 0, 1, 0, 1, 1, 1, 0, 0]\n",
            "[0, 0, 1, 0, 0, 1, 1, 0, 1, 0, 1, 0, 1, 1, 1, 1, 1, 1, 1, 1, 1, 1, 1, 1, 0]\n",
            "[1, 0, 1, 1, 1, 1, 1, 0, 0, 1, 0, 1, 0, 1, 0, 0, 1, 0, 0, 1, 0, 1, 1, 0, 0]\n",
            "[0, 1, 0, 1, 1, 0, 1, 0, 0, 0, 1, 1, 1, 1, 1, 1, 0, 1, 0, 1, 0, 0, 0, 1, 1]\n",
            "[0, 1, 0, 1, 0, 1, 0, 1, 0, 0, 1, 0, 1, 1, 0, 1, 1, 1, 0, 1, 1, 0, 1, 0, 0]\n",
            "[1, 1, 1, 1, 0, 0, 0, 1, 1, 0, 0, 0, 1, 0, 1, 0, 1, 1, 1, 0, 1, 1, 0, 1, 1]\n",
            "[0, 0, 1, 1, 0, 0, 0, 0, 0, 1, 1, 0, 1, 0, 1, 0, 0, 0, 1, 1, 1, 1, 0, 1, 0]\n",
            "gen\tnevals\n",
            "0  \t100   \n",
            "1  \t65    \n",
            "2  \t54    \n",
            "3  \t51    \n",
            "4  \t60    \n",
            "5  \t68    \n",
            "6  \t57    \n",
            "7  \t55    \n",
            "8  \t67    \n",
            "9  \t55    \n",
            "10 \t58    \n",
            "11 \t69    \n",
            "12 \t61    \n",
            "13 \t57    \n",
            "14 \t68    \n",
            "15 \t54    \n",
            "16 \t53    \n",
            "17 \t50    \n",
            "18 \t57    \n",
            "19 \t57    \n",
            "20 \t54    \n",
            "21 \t52    \n",
            "22 \t61    \n",
            "23 \t58    \n",
            "24 \t63    \n",
            "25 \t58    \n",
            "26 \t54    \n",
            "27 \t68    \n",
            "28 \t73    \n",
            "29 \t60    \n",
            "30 \t58    \n",
            "31 \t73    \n",
            "32 \t56    \n",
            "33 \t61    \n",
            "34 \t55    \n",
            "35 \t58    \n",
            "36 \t66    \n",
            "37 \t59    \n",
            "38 \t72    \n",
            "39 \t62    \n",
            "40 \t52    \n",
            "41 \t66    \n",
            "42 \t57    \n",
            "43 \t60    \n",
            "44 \t71    \n",
            "45 \t57    \n",
            "46 \t58    \n",
            "47 \t63    \n",
            "48 \t68    \n",
            "49 \t53    \n",
            "50 \t51    \n",
            "51 \t50    \n",
            "52 \t54    \n",
            "53 \t64    \n",
            "54 \t53    \n",
            "55 \t55    \n",
            "56 \t63    \n",
            "57 \t52    \n",
            "58 \t66    \n",
            "59 \t40    \n",
            "60 \t53    \n",
            "61 \t63    \n",
            "62 \t64    \n",
            "63 \t55    \n",
            "64 \t54    \n",
            "65 \t59    \n",
            "66 \t57    \n",
            "67 \t61    \n",
            "68 \t54    \n",
            "69 \t51    \n",
            "70 \t75    \n",
            "71 \t63    \n",
            "72 \t53    \n",
            "73 \t54    \n",
            "74 \t55    \n",
            "75 \t67    \n",
            "76 \t58    \n",
            "77 \t61    \n",
            "78 \t62    \n",
            "79 \t48    \n",
            "80 \t62    \n",
            "81 \t55    \n",
            "82 \t48    \n",
            "83 \t58    \n",
            "84 \t54    \n",
            "85 \t48    \n",
            "86 \t66    \n",
            "87 \t64    \n",
            "88 \t65    \n",
            "89 \t57    \n",
            "90 \t49    \n",
            "91 \t59    \n",
            "92 \t62    \n",
            "93 \t60    \n",
            "94 \t61    \n",
            "95 \t73    \n",
            "96 \t67    \n",
            "97 \t56    \n",
            "98 \t68    \n",
            "99 \t63    \n",
            "100\t61    \n"
          ]
        }
      ]
    },
    {
      "cell_type": "code",
      "source": [
        "best_chromosome = tools.selBest(pop, k=1)\n",
        "print('Current best fitness:', evalFitness(best_chromosome[0]))\n",
        "print('best chromosome', best_chromosome)"
      ],
      "metadata": {
        "colab": {
          "base_uri": "https://localhost:8080/"
        },
        "id": "y1QFDdSXIuM3",
        "outputId": "64d6105f-0e3c-4bef-9aaa-378dddd8bb97"
      },
      "execution_count": null,
      "outputs": [
        {
          "output_type": "stream",
          "name": "stdout",
          "text": [
            "Current best fitness: (0,)\n",
            "best chromosome [1, 0, 1, 1, 1, 1, 0, 0, 0, 0, 0, 1, 1, 0, 1, 0, 0, 1, 1, 1, 0, 1, 0, 1, 0]\n"
          ]
        }
      ]
    }
  ]
}